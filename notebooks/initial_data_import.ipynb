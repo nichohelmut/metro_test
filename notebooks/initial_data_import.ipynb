{
 "cells": [
  {
   "cell_type": "code",
   "execution_count": 44,
   "id": "d6232314",
   "metadata": {},
   "outputs": [],
   "source": [
    "import numpy as np\n",
    "import tensorflow as tf\n",
    "from pandas import DataFrame\n",
    "from tensorflow import keras\n",
    "from tensorflow.keras import layers"
   ]
  },
  {
   "cell_type": "code",
   "execution_count": 47,
   "id": "0cf99833",
   "metadata": {},
   "outputs": [],
   "source": [
    "url = 'http://archive.ics.uci.edu/ml/machine-learning-databases/auto-mpg/auto-mpg.data'\n",
    "column_names = ['MPG', 'Cylinders', 'Displacement', 'Horsepower', 'Weight',\n",
    "                'Acceleration', 'Model Year', 'Origin']\n",
    "\n",
    "data = pd.read_csv(url, names=column_names,\n",
    "                          na_values='?', comment='\\t',\n",
    "                          sep=' ', skipinitialspace=True)"
   ]
  },
  {
   "cell_type": "code",
   "execution_count": 46,
   "id": "335d3487",
   "metadata": {},
   "outputs": [],
   "source": [
    "def train_test_features(df: DataFrame) -> tuple:\n",
    "    train_dataset = df.sample(frac=0.8, random_state=0)\n",
    "    test_dataset = df.drop(train_dataset.index)\n",
    "\n",
    "    train_features = train_dataset.copy()\n",
    "    test_features = test_dataset.copy()\n",
    "\n",
    "    return train_features, test_features\n",
    "\n",
    "\n",
    "def train_test_labels(data) -> tuple:\n",
    "    train_features, test_features = train_test_features(data)\n",
    "    train_labels = train_features.pop('MPG')\n",
    "    test_labels = test_features.pop('MPG')\n",
    "\n",
    "    return train_labels, test_labels\n",
    "\n",
    "\n",
    "def normalize_features(train_features):\n",
    "    normalizer = tf.keras.layers.Normalization(axis=-1)\n",
    "    normalizer.adapt(np.array(train_features))\n",
    "    return normalizer"
   ]
  },
  {
   "cell_type": "code",
   "execution_count": 48,
   "id": "25e83c7b",
   "metadata": {},
   "outputs": [],
   "source": [
    "train_features, test_features = train_test_features(data)\n",
    "train_labels, test_labels = train_test_labels(data)"
   ]
  },
  {
   "cell_type": "code",
   "execution_count": 56,
   "id": "326c2515",
   "metadata": {},
   "outputs": [],
   "source": [
    "normalizer = normalize_features(train_features)"
   ]
  },
  {
   "cell_type": "code",
   "execution_count": 58,
   "id": "7e318c82",
   "metadata": {},
   "outputs": [
    {
     "name": "stdout",
     "output_type": "stream",
     "text": [
      "[[  23.591    5.428  193.061      nan 2963.824   15.596   75.947    1.553]]\n"
     ]
    }
   ],
   "source": [
    "print(normalizer.mean.numpy())"
   ]
  },
  {
   "cell_type": "code",
   "execution_count": 59,
   "id": "83a733d5",
   "metadata": {},
   "outputs": [
    {
     "name": "stdout",
     "output_type": "stream",
     "text": [
      "First example: [[  14.    8.  351.  153. 4129.   13.   72.    1.]]\n",
      "\n",
      "Normalized: [[-1.21  1.53  1.52   nan  1.38 -0.93 -1.07 -0.69]]\n"
     ]
    }
   ],
   "source": [
    "first = np.array(train_features[:1])\n",
    "\n",
    "with np.printoptions(precision=2, suppress=True):\n",
    "  print('First example:', first)\n",
    "  print()\n",
    "  print('Normalized:', normalizer(first).numpy())"
   ]
  },
  {
   "cell_type": "code",
   "execution_count": 55,
   "id": "19b374e7",
   "metadata": {},
   "outputs": [],
   "source": [
    "def build_and_compile_model(norm):\n",
    "    model = keras.Sequential([\n",
    "        norm,\n",
    "        layers.Dense(64, activation='relu'),\n",
    "        layers.Dense(64, activation='relu'),\n",
    "        layers.Dense(1)\n",
    "    ])\n",
    "\n",
    "    model.compile(loss='mean_absolute_error',\n",
    "                  optimizer=tf.keras.optimizers.Adam(0.001))\n",
    "    return model"
   ]
  },
  {
   "cell_type": "code",
   "execution_count": 57,
   "id": "67711c5f",
   "metadata": {},
   "outputs": [
    {
     "data": {
      "text/plain": [
       "<keras.engine.sequential.Sequential at 0x7fc348b7fc40>"
      ]
     },
     "execution_count": 57,
     "metadata": {},
     "output_type": "execute_result"
    }
   ],
   "source": [
    "build_and_compile_model(normalizer)"
   ]
  },
  {
   "cell_type": "code",
   "execution_count": null,
   "id": "5fdfbb43",
   "metadata": {},
   "outputs": [],
   "source": []
  }
 ],
 "metadata": {
  "kernelspec": {
   "display_name": "Python 3 (ipykernel)",
   "language": "python",
   "name": "python3"
  },
  "language_info": {
   "codemirror_mode": {
    "name": "ipython",
    "version": 3
   },
   "file_extension": ".py",
   "mimetype": "text/x-python",
   "name": "python",
   "nbconvert_exporter": "python",
   "pygments_lexer": "ipython3",
   "version": "3.9.2rc1"
  }
 },
 "nbformat": 4,
 "nbformat_minor": 5
}
